{
 "cells": [
  {
   "cell_type": "markdown",
   "id": "3bd7545c",
   "metadata": {},
   "source": [
    "# LSTM"
   ]
  },
  {
   "cell_type": "markdown",
   "id": "ed454f35",
   "metadata": {},
   "source": [
    "## import packages"
   ]
  },
  {
   "cell_type": "code",
   "execution_count": 1,
   "id": "450f4ba0",
   "metadata": {},
   "outputs": [],
   "source": [
    "import tensorflow as tf\n",
    "from tensorflow.keras.models import Sequential\n",
    "from tensorflow.keras.layers import LSTM, Dense, Dropout\n",
    "from tensorflow.keras.callbacks import ModelCheckpoint, TensorBoard, EarlyStopping\n",
    "from tensorflow.keras.metrics import RootMeanSquaredError\n",
    "from sklearn import preprocessing\n",
    "\n",
    "import os\n",
    "import time\n",
    "from collections import deque\n",
    "\n",
    "import numpy as np\n",
    "import pandas as pd\n",
    "import matplotlib.pyplot as plt\n",
    "import matplotlib.dates as mdates"
   ]
  },
  {
   "cell_type": "code",
   "execution_count": 2,
   "id": "6f772ca8",
   "metadata": {},
   "outputs": [
    {
     "data": {
      "text/plain": [
       "[PhysicalDevice(name='/physical_device:GPU:0', device_type='GPU')]"
      ]
     },
     "execution_count": 2,
     "metadata": {},
     "output_type": "execute_result"
    }
   ],
   "source": [
    "# check if the tensorflow can see the GPU\n",
    "tf.config.list_physical_devices('GPU')"
   ]
  },
  {
   "cell_type": "markdown",
   "id": "97c2a0f4",
   "metadata": {},
   "source": [
    "## construct TrainTest dataset"
   ]
  },
  {
   "cell_type": "code",
   "execution_count": 3,
   "id": "2fd1e526",
   "metadata": {},
   "outputs": [],
   "source": [
    "class TrainTest(object):\n",
    "    def __init__(self, ticker):\n",
    "        self.ticker = ticker\n",
    "    \n",
    "    def readxl(self,inputs):\n",
    "        '''\n",
    "        load raw dataset from excel file and declare the input columns\n",
    "        '''\n",
    "        self.df = pd.read_csv(self.ticker+'.csv')\n",
    "        self.df.columns = inputs\n",
    "        # return self.df\n",
    "\n",
    "    def scale(self,features):\n",
    "        '''\n",
    "        apply MinMaxScaler to features\n",
    "        '''\n",
    "        self.features = features\n",
    "        self.dfsc = self.df.copy()\n",
    "        for f in features:\n",
    "            self.scaler = preprocessing.MinMaxScaler()\n",
    "            self.dfsc[f] = self.scaler.fit_transform(np.expand_dims(self.dfsc[f].values,axis=1))\n",
    "\n",
    "    def traintestsplit(self, back_steps, test_size):\n",
    "        '''\n",
    "        This Neural Network aims to predict the adjusted close price of stock index\n",
    "        on the next day by learning OCHLV information of the past {back_steps} days.\n",
    "\n",
    "        X: inputs of the network, 3-D\n",
    "        y: objective of the network, 1-D\n",
    "        '''\n",
    "        # y\n",
    "        self.dfsc['y_true'] = self.dfsc['adjclose'].shift(-1)\n",
    "        self.dfsc.dropna(inplace=True)\n",
    "        self.y = self.dfsc['y_true'].values[back_steps-1:]\n",
    "        \n",
    "        # X\n",
    "        pkg = deque(maxlen=back_steps)\n",
    "        dataset = self.dfsc[self.features].values\n",
    "        X = list()\n",
    "        for v in dataset:\n",
    "            pkg.append(v)\n",
    "            if len(pkg) == back_steps:\n",
    "                X.append(np.array(pkg))\n",
    "        self.X = np.array(X)\n",
    "\n",
    "        # Manual train test split instead of train_test_split from sklearn\n",
    "        train_size = len(self.y) - test_size\n",
    "        self.X_train = self.X[:train_size]\n",
    "        self.y_train = self.y[:train_size]\n",
    "        self.X_test = self.X[train_size:]\n",
    "        self.y_test = self.y[train_size:]\n",
    "        self.resultdf = pd.DataFrame(index=self.dfsc.date[len(self.dfsc)-test_size:])"
   ]
  },
  {
   "cell_type": "code",
   "execution_count": 4,
   "id": "cc5aadaa",
   "metadata": {},
   "outputs": [],
   "source": [
    "back = 60 # machine learns OCHLV info of the past 60 days\n",
    "test = 250 # the test set has 250 trading days\n",
    "ipts = ['date','open','high','low','adjclose','volume','size'] # declare excel file colnames\n",
    "feats = ['adjclose','volume','size','open', 'high', 'low'] # feature vector of the neural network"
   ]
  },
  {
   "cell_type": "code",
   "execution_count": 5,
   "id": "c52c2a45",
   "metadata": {},
   "outputs": [],
   "source": [
    "ssec = TrainTest('SZ') # SSE Composite Index, SZ.csv is filename\n",
    "ssec.readxl(inputs=ipts)\n",
    "ssec.scale(features=feats)\n",
    "ssec.traintestsplit(back_steps=back, test_size=test)"
   ]
  },
  {
   "cell_type": "markdown",
   "id": "40831276",
   "metadata": {},
   "source": [
    "## train & predict"
   ]
  },
  {
   "cell_type": "code",
   "execution_count": 6,
   "id": "46fe3bfc",
   "metadata": {},
   "outputs": [],
   "source": [
    "class StockRNN(object):\n",
    "    def __init__(self, ticker, X_train, y_train, X_test, y_test, result):\n",
    "        self.ticker = ticker\n",
    "        self.X_train = X_train\n",
    "        self.y_train = y_train\n",
    "        self.X_test = X_test\n",
    "        self.y_test = y_test\n",
    "        self.result = result\n",
    "    \n",
    "    def genModel(self, cell, back_steps, n_features, n_layers, units, units_input, units_last, dropout, loss, metrics, optimizer):\n",
    "        # create and compile model\n",
    "        self.cell = cell\n",
    "        self.layers = n_layers\n",
    "        self.loss = loss\n",
    "        self.metrics = metrics\n",
    "        self.optimizer = optimizer\n",
    "\n",
    "        model = Sequential()\n",
    "        if n_layers > 2:\n",
    "            for i in range(n_layers):\n",
    "                if i == 0:\n",
    "                    # input layer\n",
    "                    model.add(cell(units_input, return_sequences=True, batch_input_shape=(None, back_steps, n_features)))\n",
    "                elif i == n_layers-1:\n",
    "                    # last layer before output\n",
    "                    model.add(cell(units_last, return_sequences=False))\n",
    "                else:\n",
    "                    # hidden layers\n",
    "                    model.add(cell(units, return_sequences=True))\n",
    "                # regularization technique: Dropout\n",
    "                model.add(Dropout(dropout))\n",
    "        elif n_layers == 2:\n",
    "            model.add(cell(units_input, return_sequences=True, batch_input_shape=(None, back_steps, n_features)))\n",
    "            model.add(cell(units_last, return_sequences=False))            \n",
    "\n",
    "        model.add(Dense(1)) # output layer\n",
    "        model.compile(loss=self.loss, metrics=self.metrics, optimizer=self.optimizer)\n",
    "        self.model = model\n",
    "    \n",
    "    def fitModel(self, BATCH_SIZE, EPOCHS):\n",
    "        # generate train log\n",
    "        if not os.path.isdir('results'):\n",
    "            os.mkdir('results')\n",
    "        if not os.path.isdir('logs'):\n",
    "            os.mkdir('logs')\n",
    "        if not os.path.isdir('data'):\n",
    "            os.mkdir('data')\n",
    "        \n",
    "        self.time_now = time.strftime('%Y_%m_%d-%H_%M_%S')\n",
    "        model_name = f'{self.ticker}_{self.time_now}_{self.layers}layers_{self.loss}_{self.metrics}_{self.optimizer}'\n",
    "        \n",
    "        # some tensorflow callbacks\n",
    "        checkpointer = ModelCheckpoint(os.path.join('results', model_name + '.h5'), save_weights_only=True, save_best_only=True, verbose=1)\n",
    "        tensorboard = TensorBoard(log_dir=os.path.join('logs', model_name))\n",
    "        earlystopping = EarlyStopping(patience=10) # if loss doesn't improve in 10 epochs, the training process will be stopped\n",
    "\n",
    "        # fit model\n",
    "        history = self.model.fit(self.X_train, self.y_train,\n",
    "                                    batch_size = BATCH_SIZE,\n",
    "                                    epochs = EPOCHS,\n",
    "                                    validation_split=0.3,\n",
    "                                    callbacks=[checkpointer, tensorboard, earlystopping],\n",
    "                                    verbose=1)\n",
    "    \n",
    "    def Modelpred(self,scaler):\n",
    "        # predict y by the trained Neural Network\n",
    "        y_pred = self.model.predict(self.X_test)\n",
    "        y_pred = np.squeeze(scaler.inverse_transform(y_pred))\n",
    "        y_test = np.squeeze(scaler.inverse_transform(np.expand_dims(self.y_test, axis=1)))\n",
    "        self.result['y_true'] = y_test\n",
    "        self.result['y_pred'] = y_pred\n",
    "        \n",
    "        # performance metrics\n",
    "        m = RootMeanSquaredError()\n",
    "        m.update_state(self.result['y_true'].values,self.result['y_pred'].values)\n",
    "        self.perform = m.result().numpy()\n",
    "\n",
    "    def visualModel(self):\n",
    "        # visualize the final results\n",
    "        plt.rcParams.update({'figure.figsize':(12,6), 'figure.dpi':120})\n",
    "        fig = plt.figure()\n",
    "        ax = fig.add_subplot(1,1,1)\n",
    "        ax.plot(self.result.loc[:,'y_true'],'b')\n",
    "        ax.plot(self.result.loc[:,'y_pred'],'r')\n",
    "        ax.legend(['Actual Price','Predicted Price'])\n",
    "        ax.xaxis.set_major_locator(mdates.MonthLocator())\n",
    "        plt.gcf().autofmt_xdate()\n",
    "        plt.savefig(f'{self.ticker}_{self.time_now}_LSTM.png')"
   ]
  },
  {
   "cell_type": "code",
   "execution_count": 7,
   "id": "8b9dfeb0",
   "metadata": {},
   "outputs": [],
   "source": [
    "ssec_lstm = StockRNN(ticker='ssec', X_train=ssec.X_train, y_train=ssec.y_train, \n",
    "                     X_test=ssec.X_test, y_test=ssec.y_test, result=ssec.resultdf)"
   ]
  },
  {
   "cell_type": "code",
   "execution_count": 8,
   "id": "f10a3c2c",
   "metadata": {},
   "outputs": [],
   "source": [
    "ssec_lstm.genModel(cell = LSTM, back_steps=back, n_features=len(feats), n_layers=2,\n",
    "                   units=8, units_input=16, units_last = 4, dropout=0.4,\n",
    "                   loss='mean_squared_error', metrics = 'mean_squared_error', optimizer='adam')"
   ]
  },
  {
   "cell_type": "code",
   "execution_count": 9,
   "id": "af615b6f",
   "metadata": {},
   "outputs": [
    {
     "name": "stdout",
     "output_type": "stream",
     "text": [
      "Model: \"sequential\"\n",
      "_________________________________________________________________\n",
      "Layer (type)                 Output Shape              Param #   \n",
      "=================================================================\n",
      "lstm (LSTM)                  (None, 60, 16)            1472      \n",
      "_________________________________________________________________\n",
      "lstm_1 (LSTM)                (None, 4)                 336       \n",
      "_________________________________________________________________\n",
      "dense (Dense)                (None, 1)                 5         \n",
      "=================================================================\n",
      "Total params: 1,813\n",
      "Trainable params: 1,813\n",
      "Non-trainable params: 0\n",
      "_________________________________________________________________\n"
     ]
    }
   ],
   "source": [
    "ssec_lstm.model.summary()"
   ]
  },
  {
   "cell_type": "code",
   "execution_count": 10,
   "id": "57551b58",
   "metadata": {},
   "outputs": [
    {
     "name": "stdout",
     "output_type": "stream",
     "text": [
      "Epoch 1/300\n",
      "249/249 [==============================] - 7s 17ms/step - loss: 0.0041 - mean_squared_error: 0.0041 - val_loss: 9.9507e-04 - val_mean_squared_error: 9.9507e-04\n",
      "\n",
      "Epoch 00001: val_loss improved from inf to 0.00100, saving model to results\\ssec_2021_07_06-15_52_53_2layers_mean_squared_error_mean_squared_error_adam.h5\n",
      "Epoch 2/300\n",
      "249/249 [==============================] - 3s 12ms/step - loss: 3.8510e-04 - mean_squared_error: 3.8510e-04 - val_loss: 5.4202e-04 - val_mean_squared_error: 5.4202e-04\n",
      "\n",
      "Epoch 00002: val_loss improved from 0.00100 to 0.00054, saving model to results\\ssec_2021_07_06-15_52_53_2layers_mean_squared_error_mean_squared_error_adam.h5\n",
      "Epoch 3/300\n",
      "249/249 [==============================] - 3s 13ms/step - loss: 3.0702e-04 - mean_squared_error: 3.0702e-04 - val_loss: 4.6459e-04 - val_mean_squared_error: 4.6459e-04\n",
      "\n",
      "Epoch 00003: val_loss improved from 0.00054 to 0.00046, saving model to results\\ssec_2021_07_06-15_52_53_2layers_mean_squared_error_mean_squared_error_adam.h5\n",
      "Epoch 4/300\n",
      "249/249 [==============================] - 3s 13ms/step - loss: 2.5517e-04 - mean_squared_error: 2.5517e-04 - val_loss: 2.6810e-04 - val_mean_squared_error: 2.6810e-04\n",
      "\n",
      "Epoch 00004: val_loss improved from 0.00046 to 0.00027, saving model to results\\ssec_2021_07_06-15_52_53_2layers_mean_squared_error_mean_squared_error_adam.h5\n",
      "Epoch 5/300\n",
      "249/249 [==============================] - 3s 13ms/step - loss: 2.3036e-04 - mean_squared_error: 2.3036e-04 - val_loss: 2.7769e-04 - val_mean_squared_error: 2.7769e-04\n",
      "\n",
      "Epoch 00005: val_loss did not improve from 0.00027\n",
      "Epoch 6/300\n",
      "249/249 [==============================] - 3s 13ms/step - loss: 2.1928e-04 - mean_squared_error: 2.1928e-04 - val_loss: 4.7060e-04 - val_mean_squared_error: 4.7060e-04\n",
      "\n",
      "Epoch 00006: val_loss did not improve from 0.00027\n",
      "Epoch 7/300\n",
      "249/249 [==============================] - 3s 11ms/step - loss: 1.9065e-04 - mean_squared_error: 1.9065e-04 - val_loss: 2.1621e-04 - val_mean_squared_error: 2.1621e-04\n",
      "\n",
      "Epoch 00007: val_loss improved from 0.00027 to 0.00022, saving model to results\\ssec_2021_07_06-15_52_53_2layers_mean_squared_error_mean_squared_error_adam.h5\n",
      "Epoch 8/300\n",
      "249/249 [==============================] - 3s 11ms/step - loss: 1.8965e-04 - mean_squared_error: 1.8965e-04 - val_loss: 2.0230e-04 - val_mean_squared_error: 2.0230e-04\n",
      "\n",
      "Epoch 00008: val_loss improved from 0.00022 to 0.00020, saving model to results\\ssec_2021_07_06-15_52_53_2layers_mean_squared_error_mean_squared_error_adam.h5\n",
      "Epoch 9/300\n",
      "249/249 [==============================] - 3s 11ms/step - loss: 1.7928e-04 - mean_squared_error: 1.7928e-04 - val_loss: 2.5326e-04 - val_mean_squared_error: 2.5326e-04\n",
      "\n",
      "Epoch 00009: val_loss did not improve from 0.00020\n",
      "Epoch 10/300\n",
      "249/249 [==============================] - 3s 11ms/step - loss: 1.7139e-04 - mean_squared_error: 1.7139e-04 - val_loss: 2.3195e-04 - val_mean_squared_error: 2.3195e-04\n",
      "\n",
      "Epoch 00010: val_loss did not improve from 0.00020\n",
      "Epoch 11/300\n",
      "249/249 [==============================] - 3s 12ms/step - loss: 1.6356e-04 - mean_squared_error: 1.6356e-04 - val_loss: 6.7262e-04 - val_mean_squared_error: 6.7262e-04\n",
      "\n",
      "Epoch 00011: val_loss did not improve from 0.00020\n",
      "Epoch 12/300\n",
      "249/249 [==============================] - 3s 11ms/step - loss: 1.6391e-04 - mean_squared_error: 1.6391e-04 - val_loss: 7.0874e-04 - val_mean_squared_error: 7.0874e-04\n",
      "\n",
      "Epoch 00012: val_loss did not improve from 0.00020\n",
      "Epoch 13/300\n",
      "249/249 [==============================] - 3s 11ms/step - loss: 1.5175e-04 - mean_squared_error: 1.5175e-04 - val_loss: 3.7942e-04 - val_mean_squared_error: 3.7942e-04\n",
      "\n",
      "Epoch 00013: val_loss did not improve from 0.00020\n",
      "Epoch 14/300\n",
      "249/249 [==============================] - 3s 11ms/step - loss: 1.4193e-04 - mean_squared_error: 1.4193e-04 - val_loss: 4.5887e-04 - val_mean_squared_error: 4.5887e-04\n",
      "\n",
      "Epoch 00014: val_loss did not improve from 0.00020\n",
      "Epoch 15/300\n",
      "249/249 [==============================] - 3s 11ms/step - loss: 1.3493e-04 - mean_squared_error: 1.3493e-04 - val_loss: 3.3492e-04 - val_mean_squared_error: 3.3492e-04\n",
      "\n",
      "Epoch 00015: val_loss did not improve from 0.00020\n",
      "Epoch 16/300\n",
      "249/249 [==============================] - 3s 12ms/step - loss: 1.3269e-04 - mean_squared_error: 1.3269e-04 - val_loss: 3.5033e-04 - val_mean_squared_error: 3.5033e-04\n",
      "\n",
      "Epoch 00016: val_loss did not improve from 0.00020\n",
      "Epoch 17/300\n",
      "249/249 [==============================] - 3s 12ms/step - loss: 1.2431e-04 - mean_squared_error: 1.2431e-04 - val_loss: 3.1336e-04 - val_mean_squared_error: 3.1336e-04\n",
      "\n",
      "Epoch 00017: val_loss did not improve from 0.00020\n",
      "Epoch 18/300\n",
      "249/249 [==============================] - 3s 12ms/step - loss: 1.2448e-04 - mean_squared_error: 1.2448e-04 - val_loss: 4.6776e-04 - val_mean_squared_error: 4.6776e-04\n",
      "\n",
      "Epoch 00018: val_loss did not improve from 0.00020\n"
     ]
    }
   ],
   "source": [
    "ssec_lstm.fitModel(BATCH_SIZE=20, EPOCHS=300)"
   ]
  },
  {
   "cell_type": "code",
   "execution_count": 11,
   "id": "ac2efcd3",
   "metadata": {},
   "outputs": [
    {
     "data": {
      "text/plain": [
       "137.91055"
      ]
     },
     "execution_count": 11,
     "metadata": {},
     "output_type": "execute_result"
    }
   ],
   "source": [
    "ssec_lstm.Modelpred(scaler=ssec.scaler)\n",
    "ssec_lstm.perform"
   ]
  },
  {
   "cell_type": "code",
   "execution_count": 12,
   "id": "69bcbcd5",
   "metadata": {},
   "outputs": [
    {
     "data": {
      "image/png": "[encoded data removed]",
      "text/plain": [
       "<Figure size 1440x720 with 1 Axes>"
      ]
     },
     "metadata": {
      "needs_background": "light"
     },
     "output_type": "display_data"
    }
   ],
   "source": [
    "ssec_lstm.visualModel()"
   ]
  },
  {
   "cell_type": "markdown",
   "id": "b0d784ba",
   "metadata": {},
   "source": [
    "# ARIMA"
   ]
  },
  {
   "cell_type": "markdown",
   "id": "f6267613",
   "metadata": {},
   "source": [
    "## import packages"
   ]
  },
  {
   "cell_type": "code",
   "execution_count": 13,
   "id": "4643657c",
   "metadata": {},
   "outputs": [],
   "source": [
    "import datetime\n",
    "\n",
    "import numpy as np\n",
    "import pandas as pd\n",
    "import matplotlib.pyplot as plt\n",
    "import matplotlib.dates as mdates\n",
    "\n",
    "from statsmodels.graphics.tsaplots import plot_acf, plot_pacf\n",
    "from statsmodels.tsa.stattools import adfuller\n",
    "from statsmodels.tsa.arima.model import ARIMA\n",
    "import pmdarima as pm"
   ]
  },
  {
   "cell_type": "markdown",
   "id": "245e4e3a",
   "metadata": {},
   "source": [
    "## construct TrainTest dataset"
   ]
  },
  {
   "cell_type": "code",
   "execution_count": 14,
   "id": "48b0918b",
   "metadata": {},
   "outputs": [
    {
     "data": {
      "text/html": [
       "<div>\n",
       "<style scoped>\n",
       "    .dataframe tbody tr th:only-of-type {\n",
       "        vertical-align: middle;\n",
       "    }\n",
       "\n",
       "    .dataframe tbody tr th {\n",
       "        vertical-align: top;\n",
       "    }\n",
       "\n",
       "    .dataframe thead th {\n",
       "        text-align: right;\n",
       "    }\n",
       "</style>\n",
       "<table border=\"1\" class=\"dataframe\">\n",
       "  <thead>\n",
       "    <tr style=\"text-align: right;\">\n",
       "      <th></th>\n",
       "      <th>adjclose</th>\n",
       "    </tr>\n",
       "    <tr>\n",
       "      <th>date</th>\n",
       "      <th></th>\n",
       "    </tr>\n",
       "  </thead>\n",
       "  <tbody>\n",
       "    <tr>\n",
       "      <th>1990-12-20</th>\n",
       "      <td>104.3900</td>\n",
       "    </tr>\n",
       "    <tr>\n",
       "      <th>1990-12-21</th>\n",
       "      <td>109.1300</td>\n",
       "    </tr>\n",
       "    <tr>\n",
       "      <th>1990-12-24</th>\n",
       "      <td>114.5500</td>\n",
       "    </tr>\n",
       "    <tr>\n",
       "      <th>1990-12-25</th>\n",
       "      <td>120.2500</td>\n",
       "    </tr>\n",
       "    <tr>\n",
       "      <th>1990-12-26</th>\n",
       "      <td>125.2700</td>\n",
       "    </tr>\n",
       "    <tr>\n",
       "      <th>...</th>\n",
       "      <td>...</td>\n",
       "    </tr>\n",
       "    <tr>\n",
       "      <th>2021-04-27</th>\n",
       "      <td>3442.6111</td>\n",
       "    </tr>\n",
       "    <tr>\n",
       "      <th>2021-04-28</th>\n",
       "      <td>3457.0683</td>\n",
       "    </tr>\n",
       "    <tr>\n",
       "      <th>2021-04-29</th>\n",
       "      <td>3474.9011</td>\n",
       "    </tr>\n",
       "    <tr>\n",
       "      <th>2021-04-30</th>\n",
       "      <td>3446.8564</td>\n",
       "    </tr>\n",
       "    <tr>\n",
       "      <th>2021-05-06</th>\n",
       "      <td>3441.2826</td>\n",
       "    </tr>\n",
       "  </tbody>\n",
       "</table>\n",
       "<p>7422 rows × 1 columns</p>\n",
       "</div>"
      ],
      "text/plain": [
       "             adjclose\n",
       "date                 \n",
       "1990-12-20   104.3900\n",
       "1990-12-21   109.1300\n",
       "1990-12-24   114.5500\n",
       "1990-12-25   120.2500\n",
       "1990-12-26   125.2700\n",
       "...               ...\n",
       "2021-04-27  3442.6111\n",
       "2021-04-28  3457.0683\n",
       "2021-04-29  3474.9011\n",
       "2021-04-30  3446.8564\n",
       "2021-05-06  3441.2826\n",
       "\n",
       "[7422 rows x 1 columns]"
      ]
     },
     "execution_count": 14,
     "metadata": {},
     "output_type": "execute_result"
    }
   ],
   "source": [
    "adjc_total = ssec.df.loc[:,['date','adjclose']]\n",
    "adjc_total.drop([len(adjc_total)-1],inplace=True) # reconcile the test set with LSTM\n",
    "adjc_total.set_index('date',inplace=True)\n",
    "adjc_total.index = pd.to_datetime(adjc_total.index)\n",
    "adjc_total.dropna(inplace=True)\n",
    "adjc_total"
   ]
  },
  {
   "cell_type": "code",
   "execution_count": 15,
   "id": "4b7348e8",
   "metadata": {},
   "outputs": [
    {
     "data": {
      "text/plain": [
       "datetime.datetime(2020, 4, 23, 0, 0)"
      ]
     },
     "execution_count": 15,
     "metadata": {},
     "output_type": "execute_result"
    }
   ],
   "source": [
    "ytestdf = ssec.resultdf\n",
    "test_start_date = ytestdf.index[0]\n",
    "test_start_date = datetime.datetime.strptime(test_start_date, \"%Y/%m/%d\")\n",
    "test_start_date # get the start point of test set"
   ]
  },
  {
   "cell_type": "code",
   "execution_count": 16,
   "id": "e13a0d78",
   "metadata": {},
   "outputs": [],
   "source": [
    "adjc_init = adjc_total[adjc_total.index<test_start_date]\n",
    "adjc_test = adjc_total[adjc_total.index>=test_start_date]"
   ]
  },
  {
   "cell_type": "code",
   "execution_count": 17,
   "id": "93c30ff9",
   "metadata": {},
   "outputs": [
    {
     "data": {
      "text/html": [
       "<div>\n",
       "<style scoped>\n",
       "    .dataframe tbody tr th:only-of-type {\n",
       "        vertical-align: middle;\n",
       "    }\n",
       "\n",
       "    .dataframe tbody tr th {\n",
       "        vertical-align: top;\n",
       "    }\n",
       "\n",
       "    .dataframe thead th {\n",
       "        text-align: right;\n",
       "    }\n",
       "</style>\n",
       "<table border=\"1\" class=\"dataframe\">\n",
       "  <thead>\n",
       "    <tr style=\"text-align: right;\">\n",
       "      <th></th>\n",
       "      <th>adjclose</th>\n",
       "    </tr>\n",
       "    <tr>\n",
       "      <th>date</th>\n",
       "      <th></th>\n",
       "    </tr>\n",
       "  </thead>\n",
       "  <tbody>\n",
       "    <tr>\n",
       "      <th>1990-12-20</th>\n",
       "      <td>104.3900</td>\n",
       "    </tr>\n",
       "    <tr>\n",
       "      <th>1990-12-21</th>\n",
       "      <td>109.1300</td>\n",
       "    </tr>\n",
       "    <tr>\n",
       "      <th>1990-12-24</th>\n",
       "      <td>114.5500</td>\n",
       "    </tr>\n",
       "    <tr>\n",
       "      <th>1990-12-25</th>\n",
       "      <td>120.2500</td>\n",
       "    </tr>\n",
       "    <tr>\n",
       "      <th>1990-12-26</th>\n",
       "      <td>125.2700</td>\n",
       "    </tr>\n",
       "    <tr>\n",
       "      <th>...</th>\n",
       "      <td>...</td>\n",
       "    </tr>\n",
       "    <tr>\n",
       "      <th>2020-04-16</th>\n",
       "      <td>2819.9350</td>\n",
       "    </tr>\n",
       "    <tr>\n",
       "      <th>2020-04-17</th>\n",
       "      <td>2838.4945</td>\n",
       "    </tr>\n",
       "    <tr>\n",
       "      <th>2020-04-20</th>\n",
       "      <td>2852.5528</td>\n",
       "    </tr>\n",
       "    <tr>\n",
       "      <th>2020-04-21</th>\n",
       "      <td>2827.0133</td>\n",
       "    </tr>\n",
       "    <tr>\n",
       "      <th>2020-04-22</th>\n",
       "      <td>2843.9804</td>\n",
       "    </tr>\n",
       "  </tbody>\n",
       "</table>\n",
       "<p>7172 rows × 1 columns</p>\n",
       "</div>"
      ],
      "text/plain": [
       "             adjclose\n",
       "date                 \n",
       "1990-12-20   104.3900\n",
       "1990-12-21   109.1300\n",
       "1990-12-24   114.5500\n",
       "1990-12-25   120.2500\n",
       "1990-12-26   125.2700\n",
       "...               ...\n",
       "2020-04-16  2819.9350\n",
       "2020-04-17  2838.4945\n",
       "2020-04-20  2852.5528\n",
       "2020-04-21  2827.0133\n",
       "2020-04-22  2843.9804\n",
       "\n",
       "[7172 rows x 1 columns]"
      ]
     },
     "execution_count": 17,
     "metadata": {},
     "output_type": "execute_result"
    }
   ],
   "source": [
    "adjc_init"
   ]
  },
  {
   "cell_type": "code",
   "execution_count": 18,
   "id": "e9fa03a6",
   "metadata": {},
   "outputs": [
    {
     "data": {
      "text/html": [
       "<div>\n",
       "<style scoped>\n",
       "    .dataframe tbody tr th:only-of-type {\n",
       "        vertical-align: middle;\n",
       "    }\n",
       "\n",
       "    .dataframe tbody tr th {\n",
       "        vertical-align: top;\n",
       "    }\n",
       "\n",
       "    .dataframe thead th {\n",
       "        text-align: right;\n",
       "    }\n",
       "</style>\n",
       "<table border=\"1\" class=\"dataframe\">\n",
       "  <thead>\n",
       "    <tr style=\"text-align: right;\">\n",
       "      <th></th>\n",
       "      <th>adjclose</th>\n",
       "    </tr>\n",
       "    <tr>\n",
       "      <th>date</th>\n",
       "      <th></th>\n",
       "    </tr>\n",
       "  </thead>\n",
       "  <tbody>\n",
       "    <tr>\n",
       "      <th>2020-04-23</th>\n",
       "      <td>2838.4994</td>\n",
       "    </tr>\n",
       "    <tr>\n",
       "      <th>2020-04-24</th>\n",
       "      <td>2808.5293</td>\n",
       "    </tr>\n",
       "    <tr>\n",
       "      <th>2020-04-27</th>\n",
       "      <td>2815.4947</td>\n",
       "    </tr>\n",
       "    <tr>\n",
       "      <th>2020-04-28</th>\n",
       "      <td>2810.0243</td>\n",
       "    </tr>\n",
       "    <tr>\n",
       "      <th>2020-04-29</th>\n",
       "      <td>2822.4424</td>\n",
       "    </tr>\n",
       "    <tr>\n",
       "      <th>...</th>\n",
       "      <td>...</td>\n",
       "    </tr>\n",
       "    <tr>\n",
       "      <th>2021-04-27</th>\n",
       "      <td>3442.6111</td>\n",
       "    </tr>\n",
       "    <tr>\n",
       "      <th>2021-04-28</th>\n",
       "      <td>3457.0683</td>\n",
       "    </tr>\n",
       "    <tr>\n",
       "      <th>2021-04-29</th>\n",
       "      <td>3474.9011</td>\n",
       "    </tr>\n",
       "    <tr>\n",
       "      <th>2021-04-30</th>\n",
       "      <td>3446.8564</td>\n",
       "    </tr>\n",
       "    <tr>\n",
       "      <th>2021-05-06</th>\n",
       "      <td>3441.2826</td>\n",
       "    </tr>\n",
       "  </tbody>\n",
       "</table>\n",
       "<p>250 rows × 1 columns</p>\n",
       "</div>"
      ],
      "text/plain": [
       "             adjclose\n",
       "date                 \n",
       "2020-04-23  2838.4994\n",
       "2020-04-24  2808.5293\n",
       "2020-04-27  2815.4947\n",
       "2020-04-28  2810.0243\n",
       "2020-04-29  2822.4424\n",
       "...               ...\n",
       "2021-04-27  3442.6111\n",
       "2021-04-28  3457.0683\n",
       "2021-04-29  3474.9011\n",
       "2021-04-30  3446.8564\n",
       "2021-05-06  3441.2826\n",
       "\n",
       "[250 rows x 1 columns]"
      ]
     },
     "execution_count": 18,
     "metadata": {},
     "output_type": "execute_result"
    }
   ],
   "source": [
    "adjc_test"
   ]
  },
  {
   "cell_type": "code",
   "execution_count": 19,
   "id": "b95d5767",
   "metadata": {},
   "outputs": [
    {
     "data": {
      "text/html": [
       "<div>\n",
       "<style scoped>\n",
       "    .dataframe tbody tr th:only-of-type {\n",
       "        vertical-align: middle;\n",
       "    }\n",
       "\n",
       "    .dataframe tbody tr th {\n",
       "        vertical-align: top;\n",
       "    }\n",
       "\n",
       "    .dataframe thead th {\n",
       "        text-align: right;\n",
       "    }\n",
       "</style>\n",
       "<table border=\"1\" class=\"dataframe\">\n",
       "  <thead>\n",
       "    <tr style=\"text-align: right;\">\n",
       "      <th></th>\n",
       "      <th>y_true</th>\n",
       "      <th>y_pred</th>\n",
       "    </tr>\n",
       "    <tr>\n",
       "      <th>date</th>\n",
       "      <th></th>\n",
       "      <th></th>\n",
       "    </tr>\n",
       "  </thead>\n",
       "  <tbody>\n",
       "    <tr>\n",
       "      <th>2020-04-23</th>\n",
       "      <td>NaN</td>\n",
       "      <td>NaN</td>\n",
       "    </tr>\n",
       "    <tr>\n",
       "      <th>2020-04-24</th>\n",
       "      <td>NaN</td>\n",
       "      <td>NaN</td>\n",
       "    </tr>\n",
       "    <tr>\n",
       "      <th>2020-04-27</th>\n",
       "      <td>NaN</td>\n",
       "      <td>NaN</td>\n",
       "    </tr>\n",
       "    <tr>\n",
       "      <th>2020-04-28</th>\n",
       "      <td>NaN</td>\n",
       "      <td>NaN</td>\n",
       "    </tr>\n",
       "    <tr>\n",
       "      <th>2020-04-29</th>\n",
       "      <td>NaN</td>\n",
       "      <td>NaN</td>\n",
       "    </tr>\n",
       "    <tr>\n",
       "      <th>...</th>\n",
       "      <td>...</td>\n",
       "      <td>...</td>\n",
       "    </tr>\n",
       "    <tr>\n",
       "      <th>2021-04-27</th>\n",
       "      <td>NaN</td>\n",
       "      <td>NaN</td>\n",
       "    </tr>\n",
       "    <tr>\n",
       "      <th>2021-04-28</th>\n",
       "      <td>NaN</td>\n",
       "      <td>NaN</td>\n",
       "    </tr>\n",
       "    <tr>\n",
       "      <th>2021-04-29</th>\n",
       "      <td>NaN</td>\n",
       "      <td>NaN</td>\n",
       "    </tr>\n",
       "    <tr>\n",
       "      <th>2021-04-30</th>\n",
       "      <td>NaN</td>\n",
       "      <td>NaN</td>\n",
       "    </tr>\n",
       "    <tr>\n",
       "      <th>2021-05-06</th>\n",
       "      <td>NaN</td>\n",
       "      <td>NaN</td>\n",
       "    </tr>\n",
       "  </tbody>\n",
       "</table>\n",
       "<p>250 rows × 2 columns</p>\n",
       "</div>"
      ],
      "text/plain": [
       "           y_true y_pred\n",
       "date                    \n",
       "2020-04-23    NaN    NaN\n",
       "2020-04-24    NaN    NaN\n",
       "2020-04-27    NaN    NaN\n",
       "2020-04-28    NaN    NaN\n",
       "2020-04-29    NaN    NaN\n",
       "...           ...    ...\n",
       "2021-04-27    NaN    NaN\n",
       "2021-04-28    NaN    NaN\n",
       "2021-04-29    NaN    NaN\n",
       "2021-04-30    NaN    NaN\n",
       "2021-05-06    NaN    NaN\n",
       "\n",
       "[250 rows x 2 columns]"
      ]
     },
     "execution_count": 19,
     "metadata": {},
     "output_type": "execute_result"
    }
   ],
   "source": [
    "arimatestdate = adjc_test.index\n",
    "test_df_arima = pd.DataFrame(index=arimatestdate, columns=['y_true','y_pred'])\n",
    "test_df_arima"
   ]
  },
  {
   "cell_type": "markdown",
   "id": "82dba9ad",
   "metadata": {},
   "source": [
    "## estimate & predict"
   ]
  },
  {
   "cell_type": "code",
   "execution_count": 20,
   "id": "f14d6fce",
   "metadata": {},
   "outputs": [
    {
     "name": "stdout",
     "output_type": "stream",
     "text": [
      " ARIMA(0,1,0)(0,0,0)[0] intercept   : AIC=73621.318, Time=0.16 sec\n",
      " ARIMA(0,1,1)(0,0,0)[0] intercept   : AIC=73614.044, Time=0.40 sec\n",
      " ARIMA(0,1,2)(0,0,0)[0] intercept   : AIC=73606.511, Time=0.58 sec\n",
      " ARIMA(0,1,3)(0,0,0)[0] intercept   : AIC=73593.182, Time=1.48 sec\n",
      " ARIMA(0,1,4)(0,0,0)[0] intercept   : AIC=73567.830, Time=0.98 sec\n",
      " ARIMA(0,1,5)(0,0,0)[0] intercept   : AIC=73569.315, Time=1.06 sec\n",
      " ARIMA(1,1,0)(0,0,0)[0] intercept   : AIC=73614.741, Time=0.19 sec\n",
      " ARIMA(1,1,1)(0,0,0)[0] intercept   : AIC=73603.780, Time=2.57 sec\n",
      " ARIMA(1,1,2)(0,0,0)[0] intercept   : AIC=73605.129, Time=3.03 sec\n",
      " ARIMA(1,1,3)(0,0,0)[0] intercept   : AIC=73580.829, Time=3.06 sec\n",
      " ARIMA(1,1,4)(0,0,0)[0] intercept   : AIC=73569.616, Time=2.46 sec\n",
      " ARIMA(2,1,0)(0,0,0)[0] intercept   : AIC=73607.152, Time=0.42 sec\n",
      " ARIMA(2,1,1)(0,0,0)[0] intercept   : AIC=73604.580, Time=2.43 sec\n",
      " ARIMA(2,1,2)(0,0,0)[0] intercept   : AIC=73578.454, Time=6.43 sec\n",
      " ARIMA(2,1,3)(0,0,0)[0] intercept   : AIC=73552.887, Time=5.27 sec\n",
      " ARIMA(3,1,0)(0,0,0)[0] intercept   : AIC=73590.971, Time=0.51 sec\n",
      " ARIMA(3,1,1)(0,0,0)[0] intercept   : AIC=73578.997, Time=3.46 sec\n",
      " ARIMA(3,1,2)(0,0,0)[0] intercept   : AIC=73552.408, Time=6.85 sec\n",
      " ARIMA(4,1,0)(0,0,0)[0] intercept   : AIC=73564.912, Time=0.61 sec\n",
      " ARIMA(4,1,1)(0,0,0)[0] intercept   : AIC=73566.908, Time=2.35 sec\n",
      " ARIMA(5,1,0)(0,0,0)[0] intercept   : AIC=73566.902, Time=0.71 sec\n",
      "\n",
      "Best model:  ARIMA(3,1,2)(0,0,0)[0] intercept\n",
      "Total fit time: 45.035 seconds\n"
     ]
    }
   ],
   "source": [
    "model = pm.auto_arima(np.array(adjc_init.adjclose.values), start_p=1, start_q=1,\n",
    "                  information_criterion='aic',\n",
    "                  test='kpss',       # use unit root test to find optimal 'd'\n",
    "                  max_p=12, max_q=12, # maximum p and q\n",
    "                  with_intercept=True,\n",
    "                  m=1,              # frequency of series, corresponding to seasonality\n",
    "                  d=None,           # let model determine 'd'\n",
    "                  seasonal=False,   # No Seasonality\n",
    "                  start_P=0, \n",
    "                  D=0, \n",
    "                  trace=True,\n",
    "                  error_action='warn',  \n",
    "                  suppress_warnings=True, \n",
    "                  stepwise=False)"
   ]
  },
  {
   "cell_type": "code",
   "execution_count": 21,
   "id": "12761918",
   "metadata": {},
   "outputs": [
    {
     "data": {
      "text/html": [
       "<table class=\"simpletable\">\n",
       "<caption>SARIMAX Results</caption>\n",
       "<tr>\n",
       "  <th>Dep. Variable:</th>           <td>y</td>        <th>  No. Observations:  </th>    <td>7172</td>   \n",
       "</tr>\n",
       "<tr>\n",
       "  <th>Model:</th>           <td>SARIMAX(3, 1, 2)</td> <th>  Log Likelihood     </th> <td>-36769.204</td>\n",
       "</tr>\n",
       "<tr>\n",
       "  <th>Date:</th>            <td>Tue, 06 Jul 2021</td> <th>  AIC                </th>  <td>73552.408</td>\n",
       "</tr>\n",
       "<tr>\n",
       "  <th>Time:</th>                <td>15:54:39</td>     <th>  BIC                </th>  <td>73600.552</td>\n",
       "</tr>\n",
       "<tr>\n",
       "  <th>Sample:</th>                  <td>0</td>        <th>  HQIC               </th>  <td>73568.977</td>\n",
       "</tr>\n",
       "<tr>\n",
       "  <th></th>                      <td> - 7172</td>     <th>                     </th>      <td> </td>    \n",
       "</tr>\n",
       "<tr>\n",
       "  <th>Covariance Type:</th>        <td>opg</td>       <th>                     </th>      <td> </td>    \n",
       "</tr>\n",
       "</table>\n",
       "<table class=\"simpletable\">\n",
       "<tr>\n",
       "      <td></td>         <th>coef</th>     <th>std err</th>      <th>z</th>      <th>P>|z|</th>  <th>[0.025</th>    <th>0.975]</th>  \n",
       "</tr>\n",
       "<tr>\n",
       "  <th>intercept</th> <td>    0.4472</td> <td>    0.810</td> <td>    0.552</td> <td> 0.581</td> <td>   -1.140</td> <td>    2.035</td>\n",
       "</tr>\n",
       "<tr>\n",
       "  <th>ar.L1</th>     <td>    0.1981</td> <td>    0.021</td> <td>    9.537</td> <td> 0.000</td> <td>    0.157</td> <td>    0.239</td>\n",
       "</tr>\n",
       "<tr>\n",
       "  <th>ar.L2</th>     <td>   -0.8719</td> <td>    0.016</td> <td>  -55.724</td> <td> 0.000</td> <td>   -0.903</td> <td>   -0.841</td>\n",
       "</tr>\n",
       "<tr>\n",
       "  <th>ar.L3</th>     <td>    0.0680</td> <td>    0.006</td> <td>   10.630</td> <td> 0.000</td> <td>    0.055</td> <td>    0.081</td>\n",
       "</tr>\n",
       "<tr>\n",
       "  <th>ma.L1</th>     <td>   -0.1619</td> <td>    0.020</td> <td>   -7.954</td> <td> 0.000</td> <td>   -0.202</td> <td>   -0.122</td>\n",
       "</tr>\n",
       "<tr>\n",
       "  <th>ma.L2</th>     <td>    0.8306</td> <td>    0.018</td> <td>   46.117</td> <td> 0.000</td> <td>    0.795</td> <td>    0.866</td>\n",
       "</tr>\n",
       "<tr>\n",
       "  <th>sigma2</th>    <td> 1662.2381</td> <td>    8.532</td> <td>  194.830</td> <td> 0.000</td> <td> 1645.516</td> <td> 1678.960</td>\n",
       "</tr>\n",
       "</table>\n",
       "<table class=\"simpletable\">\n",
       "<tr>\n",
       "  <th>Ljung-Box (L1) (Q):</th>     <td>0.00</td> <th>  Jarque-Bera (JB):  </th> <td>122025.28</td>\n",
       "</tr>\n",
       "<tr>\n",
       "  <th>Prob(Q):</th>                <td>0.96</td> <th>  Prob(JB):          </th>   <td>0.00</td>   \n",
       "</tr>\n",
       "<tr>\n",
       "  <th>Heteroskedasticity (H):</th> <td>2.07</td> <th>  Skew:              </th>   <td>-0.40</td>  \n",
       "</tr>\n",
       "<tr>\n",
       "  <th>Prob(H) (two-sided):</th>    <td>0.00</td> <th>  Kurtosis:          </th>   <td>23.19</td>  \n",
       "</tr>\n",
       "</table><br/><br/>Warnings:<br/>[1] Covariance matrix calculated using the outer product of gradients (complex-step)."
      ],
      "text/plain": [
       "<class 'statsmodels.iolib.summary.Summary'>\n",
       "\"\"\"\n",
       "                               SARIMAX Results                                \n",
       "==============================================================================\n",
       "Dep. Variable:                      y   No. Observations:                 7172\n",
       "Model:               SARIMAX(3, 1, 2)   Log Likelihood              -36769.204\n",
       "Date:                Tue, 06 Jul 2021   AIC                          73552.408\n",
       "Time:                        15:54:39   BIC                          73600.552\n",
       "Sample:                             0   HQIC                         73568.977\n",
       "                               - 7172                                         \n",
       "Covariance Type:                  opg                                         \n",
       "==============================================================================\n",
       "                 coef    std err          z      P>|z|      [0.025      0.975]\n",
       "------------------------------------------------------------------------------\n",
       "intercept      0.4472      0.810      0.552      0.581      -1.140       2.035\n",
       "ar.L1          0.1981      0.021      9.537      0.000       0.157       0.239\n",
       "ar.L2         -0.8719      0.016    -55.724      0.000      -0.903      -0.841\n",
       "ar.L3          0.0680      0.006     10.630      0.000       0.055       0.081\n",
       "ma.L1         -0.1619      0.020     -7.954      0.000      -0.202      -0.122\n",
       "ma.L2          0.8306      0.018     46.117      0.000       0.795       0.866\n",
       "sigma2      1662.2381      8.532    194.830      0.000    1645.516    1678.960\n",
       "===================================================================================\n",
       "Ljung-Box (L1) (Q):                   0.00   Jarque-Bera (JB):            122025.28\n",
       "Prob(Q):                              0.96   Prob(JB):                         0.00\n",
       "Heteroskedasticity (H):               2.07   Skew:                            -0.40\n",
       "Prob(H) (two-sided):                  0.00   Kurtosis:                        23.19\n",
       "===================================================================================\n",
       "\n",
       "Warnings:\n",
       "[1] Covariance matrix calculated using the outer product of gradients (complex-step).\n",
       "\"\"\""
      ]
     },
     "execution_count": 21,
     "metadata": {},
     "output_type": "execute_result"
    }
   ],
   "source": [
    "model.summary()"
   ]
  },
  {
   "cell_type": "code",
   "execution_count": 22,
   "id": "2d8e6f0f",
   "metadata": {},
   "outputs": [],
   "source": [
    "testlen = len(arimatestdate)\n",
    "arimaytest = model.predict(testlen)\n",
    "test_df_arima['y_true'] = adjc_test.adjclose\n",
    "test_df_arima['y_pred'] = arimaytest"
   ]
  },
  {
   "cell_type": "code",
   "execution_count": 23,
   "id": "69249d4c",
   "metadata": {},
   "outputs": [
    {
     "data": {
      "text/plain": [
       "473.85797"
      ]
     },
     "execution_count": 23,
     "metadata": {},
     "output_type": "execute_result"
    }
   ],
   "source": [
    "m = RootMeanSquaredError()\n",
    "m.update_state(test_df_arima['y_true'].values,test_df_arima['y_pred'].values)\n",
    "m.result().numpy()"
   ]
  },
  {
   "cell_type": "code",
   "execution_count": 24,
   "id": "272e969e",
   "metadata": {},
   "outputs": [
    {
     "data": {
      "image/png": "[encoded data removed]",
      "text/plain": [
       "<Figure size 1440x720 with 1 Axes>"
      ]
     },
     "metadata": {
      "needs_background": "light"
     },
     "output_type": "display_data"
    }
   ],
   "source": [
    "plt.rcParams.update({'figure.figsize':(12,6), 'figure.dpi':120})\n",
    "fig = plt.figure()\n",
    "ax = fig.add_subplot(1,1,1)\n",
    "ax.plot(test_df_arima.loc[:,'y_true'],'b')\n",
    "ax.plot(test_df_arima.loc[:,'y_pred'],'r')\n",
    "ax.legend(['Actual Price','Predicted Price'])\n",
    "ax.xaxis.set_major_locator(mdates.MonthLocator())\n",
    "plt.gcf().autofmt_xdate()\n",
    "plt.savefig(f'{ssec_lstm.ticker}_{ssec_lstm.time_now}_arima.png')"
   ]
  }
 ],
 "metadata": {
  "kernelspec": {
   "display_name": "Python 3",
   "language": "python",
   "name": "python3"
  },
  "language_info": {
   "codemirror_mode": {
    "name": "ipython",
    "version": 3
   },
   "file_extension": ".py",
   "mimetype": "text/x-python",
   "name": "python",
   "nbconvert_exporter": "python",
   "pygments_lexer": "ipython3",
   "version": "3.8.8"
  },
  "toc": {
   "base_numbering": 1,
   "nav_menu": {},
   "number_sections": true,
   "sideBar": true,
   "skip_h1_title": false,
   "title_cell": "Table of Contents",
   "title_sidebar": "Contents",
   "toc_cell": false,
   "toc_position": {
    "height": "calc(100% - 180px)",
    "left": "10px",
    "top": "150px",
    "width": "303.837px"
   },
   "toc_section_display": true,
   "toc_window_display": true
  }
 },
 "nbformat": 4,
 "nbformat_minor": 5
}
